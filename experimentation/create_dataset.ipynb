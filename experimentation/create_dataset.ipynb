{
 "cells": [
  {
   "cell_type": "code",
   "execution_count": 1,
   "metadata": {},
   "outputs": [],
   "source": [
    "import os\n",
    "import numpy as np\n",
    "import pandas as pd\n",
    "import h5py\n",
    "import pickle as pkl\n",
    "from pathlib import Path\n",
    "from sklearn.preprocessing import MinMaxScaler\n",
    "from tqdm import tqdm\n",
    "\n",
    "import sys\n",
    "\n",
    "sys.path.append('..')\n",
    "\n",
    "import datasets"
   ]
  },
  {
   "cell_type": "code",
   "execution_count": 2,
   "metadata": {},
   "outputs": [
    {
     "data": {
      "text/plain": [
       "(14242, 12)"
      ]
     },
     "execution_count": 2,
     "metadata": {},
     "output_type": "execute_result"
    }
   ],
   "source": [
    "feats = pd.read_csv('../local/ExportPCS.csv')\n",
    "feats = feats[feats['did'] == 1]\n",
    "feats.shape"
   ]
  },
  {
   "cell_type": "code",
   "execution_count": 3,
   "metadata": {},
   "outputs": [],
   "source": [
    "ts_orig = pd.read_csv('../data/Yearly-train.csv').drop(columns='V1')"
   ]
  },
  {
   "cell_type": "code",
   "execution_count": 4,
   "metadata": {},
   "outputs": [
    {
     "name": "stderr",
     "output_type": "stream",
     "text": [
      "100%|██████████| 23000/23000 [00:04<00:00, 4895.96it/s]\n"
     ]
    }
   ],
   "source": [
    "data = []\n",
    "\n",
    "for s in tqdm(ts_orig.values):\n",
    "    ser = pd.Series(s)\n",
    "    ser = datasets.get_last_N(ser, 24)\n",
    "    data.append(ser)"
   ]
  },
  {
   "cell_type": "code",
   "execution_count": 5,
   "metadata": {},
   "outputs": [
    {
     "data": {
      "text/plain": [
       "(23000, 24)"
      ]
     },
     "execution_count": 5,
     "metadata": {},
     "output_type": "execute_result"
    }
   ],
   "source": [
    "data = np.vstack(data)\n",
    "\n",
    "sc = MinMaxScaler()\n",
    "data = sc.fit_transform(data.T).T\n",
    "\n",
    "data.shape"
   ]
  },
  {
   "cell_type": "code",
   "execution_count": 6,
   "metadata": {},
   "outputs": [
    {
     "data": {
      "text/plain": [
       "(14242, 24)"
      ]
     },
     "execution_count": 6,
     "metadata": {},
     "output_type": "execute_result"
    }
   ],
   "source": [
    "data = data[feats['id'].values.astype(int)]\n",
    "data.shape"
   ]
  },
  {
   "cell_type": "code",
   "execution_count": 8,
   "metadata": {},
   "outputs": [
    {
     "data": {
      "text/plain": [
       "(14242,)"
      ]
     },
     "execution_count": 8,
     "metadata": {},
     "output_type": "execute_result"
    }
   ],
   "source": [
    "ind = np.random.permutation(len(data))\n",
    "ind.shape"
   ]
  },
  {
   "cell_type": "code",
   "execution_count": 9,
   "metadata": {},
   "outputs": [],
   "source": [
    "test_size = 5000"
   ]
  },
  {
   "cell_type": "code",
   "execution_count": 10,
   "metadata": {},
   "outputs": [],
   "source": [
    "data_dir = Path('../data')\n",
    "filename = 'yearly_24_nw'"
   ]
  },
  {
   "cell_type": "code",
   "execution_count": 12,
   "metadata": {},
   "outputs": [],
   "source": [
    "train_ind = ind[:-test_size].astype(int)\n",
    "test_ind = ind[-test_size:].astype(int)\n",
    "\n",
    "with h5py.File(str(data_dir / (filename + '_train.h5')), 'w') as hf:\n",
    "    hf.create_dataset('X', data=data[train_ind, :-6])\n",
    "    hf.create_dataset('y', data=data[train_ind, -6:])\n",
    "\n",
    "with h5py.File(str(data_dir / (filename + '_test.h5')), 'w') as hf:\n",
    "    hf.create_dataset('X', data=data[test_ind, :-6])\n",
    "    hf.create_dataset('y', data=data[test_ind, -6:])\n",
    "\n",
    "with h5py.File(str(data_dir / (filename + '_feats_train.h5')), 'w') as hf:\n",
    "    hf.create_dataset('X', data=feats.iloc[train_ind, :10])\n",
    "\n",
    "with h5py.File(str(data_dir / (filename + '_feats_test.h5')), 'w') as hf:\n",
    "    hf.create_dataset('X', data=feats.iloc[test_ind, :10])"
   ]
  }
 ],
 "metadata": {
  "kernelspec": {
   "display_name": "aug",
   "language": "python",
   "name": "aug"
  },
  "language_info": {
   "codemirror_mode": {
    "name": "ipython",
    "version": 3
   },
   "file_extension": ".py",
   "mimetype": "text/x-python",
   "name": "python",
   "nbconvert_exporter": "python",
   "pygments_lexer": "ipython3",
   "version": "3.6.9"
  }
 },
 "nbformat": 4,
 "nbformat_minor": 4
}
